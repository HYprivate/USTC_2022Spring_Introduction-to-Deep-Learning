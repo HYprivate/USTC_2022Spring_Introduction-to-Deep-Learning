{
 "cells": [
  {
   "cell_type": "code",
   "execution_count": 1,
   "metadata": {},
   "outputs": [],
   "source": [
    "import os\n",
    "import os.path\n",
    "import csv\n",
    "import time\n",
    "import PIL\n",
    "import math\n",
    "from sklearn.model_selection import StratifiedShuffleSplit\n",
    "import torch\n",
    "import torch.nn as nn\n",
    "import torch.nn.functional as F\n",
    "import torch.nn.init as init\n",
    "import torch.optim as optim\n",
    "from torch.utils.data import Dataset, DataLoader\n",
    "from torchvision import datasets, transforms, models\n",
    "import numpy as np\n",
    "import matplotlib.pyplot as plt\n",
    "from PIL import Image\n",
    "from tqdm import tqdm\n",
    "\n",
    "from ImageNet import *\n",
    "from CNN1 import *\n",
    "from ResNet import *\n",
    "from utils import *\n",
    "\n",
    "from pytorchtools import EarlyStopping"
   ]
  },
  {
   "cell_type": "code",
   "execution_count": 2,
   "metadata": {},
   "outputs": [],
   "source": [
    "os.environ['CUDA_VISIBLE_DEVICES'] = '0' "
   ]
  },
  {
   "cell_type": "code",
   "execution_count": 3,
   "metadata": {},
   "outputs": [],
   "source": [
    "def topaccuracy(output, target, topk=(5, )):       \n",
    "    # output.shape (bs, num_classes), target.shape (bs, )\n",
    "    \"\"\"Computes the accuracy over the k top predictions for the specified values of k\"\"\"\n",
    "    with torch.no_grad():\n",
    "        maxk = max(topk)\n",
    "        batch_size = target.size(0)\n",
    "\n",
    "        _, pred = output.topk(maxk, 1, True, True)\n",
    "        pred = pred.t()\n",
    "        correct = pred.eq(target.view(1, -1).expand_as(pred))\n",
    "    return correct[:5].reshape(-1).float().sum(0, keepdim=True)"
   ]
  },
  {
   "cell_type": "code",
   "execution_count": 4,
   "metadata": {},
   "outputs": [
    {
     "name": "stdout",
     "output_type": "stream",
     "text": [
      "Training on GPU\n"
     ]
    }
   ],
   "source": [
    "data_dir = './data'\n",
    "\n",
    "workers = 1\n",
    "batch_size = 128\n",
    "\n",
    "max_epochs = 100\n",
    "lr = 0.015\n",
    "\n",
    "gpu = torch.cuda.is_available()\n",
    "\n",
    "if gpu:\n",
    "    print('Training on GPU')\n",
    "else:\n",
    "    print('Training on CPU')"
   ]
  },
  {
   "cell_type": "code",
   "execution_count": 5,
   "metadata": {},
   "outputs": [
    {
     "name": "stderr",
     "output_type": "stream",
     "text": [
      "C:\\Users\\Yorick He\\AppData\\Roaming\\Python\\Python38\\site-packages\\torchvision\\transforms\\transforms.py:1435: UserWarning: The parameter 'fillcolor' is deprecated since 0.12 and will be removed in 0.14. Please use 'fill' instead.\n",
      "  warnings.warn(\n"
     ]
    }
   ],
   "source": [
    "transform1 = transforms.RandomApply([\n",
    "    transforms.RandomHorizontalFlip(p=0.5),\n",
    "    transforms.RandomAffine(degrees=0, shear=45, fillcolor=(255, 0, 0)),\n",
    "],p=0.5)\n",
    "\n",
    "transform2 = transforms.ToTensor()"
   ]
  },
  {
   "cell_type": "code",
   "execution_count": 6,
   "metadata": {},
   "outputs": [
    {
     "name": "stdout",
     "output_type": "stream",
     "text": [
      "Training Dataset Length: 90000\n",
      "Validation Dataset Length: 10000\n",
      "Test Dataset Length: 10000\n"
     ]
    }
   ],
   "source": [
    "dataset = TinyImageNetDataset(data_dir+'/train', transform=transforms.Compose([transform1, transform2]))\n",
    "labels = dataset.get_labels()\n",
    "\n",
    "sss = StratifiedShuffleSplit(n_splits=1, test_size=0.1, random_state=0)\n",
    "idx_tr, idx_val = next(sss.split(labels, labels))\n",
    "\n",
    "dataset_tr = torch.utils.data.Subset(dataset, idx_tr)\n",
    "dataset_val = torch.utils.data.Subset(dataset, idx_val)\n",
    "\n",
    "dataloader_tr = torch.utils.data.DataLoader(dataset_tr, batch_size=batch_size, shuffle=True, num_workers=workers)\n",
    "dataloader_val = torch.utils.data.DataLoader(dataset_val, batch_size=batch_size, shuffle=True, num_workers=workers)\n",
    "\n",
    "print('Training Dataset Length: ' + str(len(dataset_tr)))\n",
    "print('Validation Dataset Length: ' + str(len(dataset_val)))\n",
    "\n",
    "class_to_idx = dataset.get_class_to_idx()\n",
    "dataset_test = TinyImageNetTestDataset(data_dir+'/val', annot_filename = 'val_annotations.txt', class_to_idx = class_to_idx, transform=transform2)\n",
    "dataloader_test = torch.utils.data.DataLoader(dataset_test, batch_size=batch_size, shuffle=True, num_workers=workers)\n",
    "\n",
    "print('Test Dataset Length: ' + str(len(dataset_test)))"
   ]
  },
  {
   "cell_type": "code",
   "execution_count": 7,
   "metadata": {},
   "outputs": [],
   "source": [
    "# model = CNN()\n",
    "model = ResNet()\n",
    "model.apply(init_weights)\n",
    "if gpu:\n",
    "    model.cuda()\n",
    "\n",
    "optimizer = torch.optim.Adam(model.parameters(), lr=lr)\n",
    "scheduler = optim.lr_scheduler.ReduceLROnPlateau(optimizer, 'max', factor=0.1, patience=2,\n",
    "                                  threshold=0.0001, verbose=True, min_lr=1e-8)\n",
    "criterion = nn.CrossEntropyLoss()\n",
    "\n",
    "model_filename = 'mymodel.pth'"
   ]
  },
  {
   "cell_type": "code",
   "execution_count": 8,
   "metadata": {},
   "outputs": [],
   "source": [
    "def train(dataloader, model, optimizer, criterion):\n",
    "    batch = 0\n",
    "    loss = 0.0\n",
    "    correct = 0.0\n",
    "    top5_correct=0.0\n",
    "\n",
    "    model.train()    \n",
    "    \n",
    "    with tqdm(total=len(dataloader.dataset), desc='train', leave=True, ncols=100, unit='B', unit_scale=True) as pbar:\n",
    "        for X, Y in dataloader:\n",
    "            if gpu:\n",
    "                X = X.cuda()\n",
    "                Y = Y.cuda()\n",
    "            optimizer.zero_grad()        \n",
    "            logits = model(X)\n",
    "            cur_loss = criterion(logits, Y)\n",
    "            cur_loss.backward()\n",
    "            optimizer.step()\n",
    "            loss += cur_loss.item()\n",
    "            pred = logits.argmax(dim = 1)\n",
    "            correct += pred.eq(Y).sum()\n",
    "            top5_correct += topaccuracy(logits, Y, topk=(5,))\n",
    "#             print(correct,top5_correct)\n",
    "            \n",
    "            pbar.update(dataloader.batch_size)\n",
    "\n",
    "    \n",
    "    loss = loss / float(len(dataloader.dataset))\n",
    "    accuracy = float(correct) / float(len(dataloader.dataset)) * 100\n",
    "    top5acc = float(top5_correct) / float(len(dataloader.dataset)) * 100\n",
    "    \n",
    "    return loss, accuracy, top5acc"
   ]
  },
  {
   "cell_type": "code",
   "execution_count": 9,
   "metadata": {},
   "outputs": [],
   "source": [
    "def validate(dataloader, model, criterion):\n",
    "    \n",
    "    loss = 0.0\n",
    "    correct = 0.0\n",
    "    top5_correct = 0.0\n",
    "    model.eval()\n",
    "    \n",
    "    with tqdm(total=len(dataloader.dataset), desc='validate', leave=True, ncols=100, unit='B', unit_scale=True) as pbar:\n",
    "        for X, Y in dataloader:\n",
    "            if gpu:\n",
    "                X = X.cuda()\n",
    "                Y = Y.cuda()        \n",
    "            logits = model(X)\n",
    "            cur_loss = criterion(logits, Y)\n",
    "            loss += cur_loss.item()\n",
    "            pred = logits.argmax(dim = 1)\n",
    "            correct += pred.eq(Y).sum()\n",
    "            top5_correct += topaccuracy(logits, Y, topk=(5,))\n",
    "            pbar.update(dataloader.batch_size)\n",
    "            \n",
    "    loss = loss / float(len(dataloader.dataset))\n",
    "    accuracy = float(correct) / float(len(dataloader.dataset)) * 100\n",
    "    top5acc = float(top5_correct) / float(len(dataloader.dataset)) * 100\n",
    "\n",
    "    return loss, accuracy, top5acc"
   ]
  },
  {
   "cell_type": "code",
   "execution_count": 10,
   "metadata": {},
   "outputs": [],
   "source": [
    "def test(model, dataloader):\n",
    "    \n",
    "    loss = 0.0\n",
    "    correct = 0.0\n",
    "    top5_correct = 0.0\n",
    "    model.eval()\n",
    "    \n",
    "    with tqdm(total=len(dataloader.dataset), desc='test', leave=True, ncols=100, unit='B', unit_scale=True) as pbar:\n",
    "        for X, Y in dataloader:\n",
    "            if gpu:\n",
    "                X = X.cuda()\n",
    "                Y = Y.cuda()        \n",
    "            logits = model(X)\n",
    "            cur_loss = criterion(logits, Y)\n",
    "            loss += cur_loss.item()\n",
    "            pred = logits.argmax(dim = 1)\n",
    "            correct += pred.eq(Y).sum()\n",
    "            top5_correct += topaccuracy(logits, Y, topk=(5,))\n",
    "            pbar.update(dataloader.batch_size)\n",
    "            \n",
    "    loss = loss / float(len(dataloader.dataset))\n",
    "    accuracy = float(correct) / float(len(dataloader.dataset)) * 100\n",
    "    top5acc = float(top5_correct) / float(len(dataloader.dataset)) * 100\n",
    "\n",
    "    return pred, loss, accuracy, top5acc\n"
   ]
  },
  {
   "cell_type": "code",
   "execution_count": 11,
   "metadata": {},
   "outputs": [],
   "source": [
    "def fit(dataloader_tr, dataloader_val, model, criterion, optimizer, max_epoch = 100, scheduler = None, filename = None, early_stop = True, patience = 10, resume = False):\n",
    "    start_epoch = 0\n",
    "    early_stop_counter = 0\n",
    "    min_loss_val = 1e10    \n",
    "    loss_tr_hist = []\n",
    "    loss_val_hist = []\n",
    "    accuracy_tr_hist = []\n",
    "    accuracy_val_hist = []\n",
    "    top5_accuracy_tr_hist = []\n",
    "    top5_accuracy_val_hist = []\n",
    "\n",
    "    if resume == True:\n",
    "        if filename is None:\n",
    "            print('Please Provide File Name to load model')\n",
    "            return\n",
    "        start_epoch, model, optimizer, scheduler, early_stop_counter, loss_tr_hist, loss_val_hist, accuracy_tr_hist, \\\n",
    "        accuracy_val_hist = load_model(filename, model, optimizer, scheduler, mode = 'train')\n",
    "        \n",
    "    early_stopping = EarlyStopping(patience=patience, verbose=True)    \n",
    "    \n",
    "    for epoch in range(start_epoch+1, max_epoch + 1):\n",
    "        t0 = time.time()\n",
    "\n",
    "        loss_tr, accuracy_tr, top5_acc_tr = train(dataloader_tr, model, optimizer, criterion)\n",
    "        loss_tr_hist.append(loss_tr)\n",
    "        accuracy_tr_hist.append(accuracy_tr)\n",
    "        top5_accuracy_tr_hist.append(top5_acc_tr)\n",
    "\n",
    "        loss_val, accuracy_val, top5_acc_val = validate(dataloader_val, model, criterion)\n",
    "        loss_val_hist.append(loss_val)\n",
    "        accuracy_val_hist.append(accuracy_val)\n",
    "        top5_accuracy_val_hist.append(top5_acc_val)\n",
    "        \n",
    "        print('Epoch:',epoch)\n",
    "        print('Train Loss: {0:7.4f}  |  Top1 Accuracy: {1:7.4f}  |  Top5 Accuracy: {2:7.4f}'.format(loss_tr, accuracy_tr, top5_acc_tr))\n",
    "        print('Validate Loss: {0:7.4f}  |  Top1 Accuracy: {1:7.4f}  |  Top5 Accuracy: {2:7.4f}'.format(loss_val, accuracy_val, top5_acc_val))\n",
    "        \n",
    "        if scheduler is not None:\n",
    "            scheduler.step(accuracy_val)\n",
    "        if early_stop:\n",
    "            early_stopping(accuracy_val, model)\n",
    "            # 若满足 early stopping 要求\n",
    "            if early_stopping.early_stop:\n",
    "                print(\"Early stopping in epoch\",epoch)\n",
    "                # 结束模型训练\n",
    "                break\n",
    "    model.load_state_dict(torch.load('checkpoint.pt'))\n",
    "        \n",
    "    return loss_tr_hist, loss_val_hist, accuracy_tr_hist, accuracy_val_hist, top5_accuracy_tr_hist, top5_accuracy_val_hist, model"
   ]
  },
  {
   "cell_type": "code",
   "execution_count": 12,
   "metadata": {
    "scrolled": true
   },
   "outputs": [
    {
     "name": "stderr",
     "output_type": "stream",
     "text": [
      "train: 90.1kB [01:20, 1.12kB/s]                                                                     \n",
      "validate: 10.1kB [00:06, 1.55kB/s]                                                                  \n",
      "train:   0%|                                                            | 0.00/90.0k [00:00<?, ?B/s]"
     ]
    },
    {
     "name": "stdout",
     "output_type": "stream",
     "text": [
      "Epoch: 1\n",
      "Train Loss:  0.0407  |  Top1 Accuracy:  1.1744  |  Top5 Accuracy:  5.6144\n",
      "Validate Loss:  0.0433  |  Top1 Accuracy:  1.2600  |  Top5 Accuracy:  5.2000\n",
      "Validation acc increased (0.000000 --> 1.260000).  Saving model ...\n"
     ]
    },
    {
     "name": "stderr",
     "output_type": "stream",
     "text": [
      "train: 90.1kB [01:13, 1.22kB/s]                                                                     \n",
      "validate: 10.1kB [00:05, 1.75kB/s]                                                                  \n",
      "train:   0%|                                                            | 0.00/90.0k [00:00<?, ?B/s]"
     ]
    },
    {
     "name": "stdout",
     "output_type": "stream",
     "text": [
      "Epoch: 2\n",
      "Train Loss:  0.0387  |  Top1 Accuracy:  2.4800  |  Top5 Accuracy: 10.5467\n",
      "Validate Loss:  0.0386  |  Top1 Accuracy:  3.1600  |  Top5 Accuracy: 12.4000\n",
      "Validation acc increased (1.260000 --> 3.160000).  Saving model ...\n"
     ]
    },
    {
     "name": "stderr",
     "output_type": "stream",
     "text": [
      "train: 90.1kB [01:08, 1.32kB/s]                                                                     \n",
      "validate: 10.1kB [00:05, 1.82kB/s]                                                                  \n",
      "train:   0%|                                                            | 0.00/90.0k [00:00<?, ?B/s]"
     ]
    },
    {
     "name": "stdout",
     "output_type": "stream",
     "text": [
      "Epoch: 3\n",
      "Train Loss:  0.0372  |  Top1 Accuracy:  4.0389  |  Top5 Accuracy: 14.9311\n",
      "Validate Loss:  0.0363  |  Top1 Accuracy:  5.9900  |  Top5 Accuracy: 19.2500\n",
      "Validation acc increased (3.160000 --> 5.990000).  Saving model ...\n"
     ]
    },
    {
     "name": "stderr",
     "output_type": "stream",
     "text": [
      "train: 90.1kB [01:07, 1.33kB/s]                                                                     \n",
      "validate: 10.1kB [00:05, 1.78kB/s]                                                                  \n",
      "train:   0%|                                                            | 0.00/90.0k [00:00<?, ?B/s]"
     ]
    },
    {
     "name": "stdout",
     "output_type": "stream",
     "text": [
      "Epoch: 4\n",
      "Train Loss:  0.0360  |  Top1 Accuracy:  5.4489  |  Top5 Accuracy: 18.7656\n",
      "Validate Loss:  0.0409  |  Top1 Accuracy:  4.2800  |  Top5 Accuracy: 15.2500\n",
      "EarlyStopping counter: 1 out of 10\n"
     ]
    },
    {
     "name": "stderr",
     "output_type": "stream",
     "text": [
      "train: 90.1kB [01:07, 1.34kB/s]                                                                     \n",
      "validate: 10.1kB [00:05, 1.82kB/s]                                                                  \n",
      "train:   0%|                                                            | 0.00/90.0k [00:00<?, ?B/s]"
     ]
    },
    {
     "name": "stdout",
     "output_type": "stream",
     "text": [
      "Epoch: 5\n",
      "Train Loss:  0.0351  |  Top1 Accuracy:  6.6322  |  Top5 Accuracy: 21.9189\n",
      "Validate Loss:  0.0348  |  Top1 Accuracy:  9.3100  |  Top5 Accuracy: 25.6800\n",
      "Validation acc increased (5.990000 --> 9.310000).  Saving model ...\n"
     ]
    },
    {
     "name": "stderr",
     "output_type": "stream",
     "text": [
      "train: 90.1kB [01:08, 1.32kB/s]                                                                     \n",
      "validate: 10.1kB [00:05, 1.81kB/s]                                                                  \n",
      "train:   0%|                                                            | 0.00/90.0k [00:00<?, ?B/s]"
     ]
    },
    {
     "name": "stdout",
     "output_type": "stream",
     "text": [
      "Epoch: 6\n",
      "Train Loss:  0.0342  |  Top1 Accuracy:  7.8356  |  Top5 Accuracy: 24.7644\n",
      "Validate Loss:  0.0349  |  Top1 Accuracy:  7.9400  |  Top5 Accuracy: 24.4800\n",
      "EarlyStopping counter: 1 out of 10\n"
     ]
    },
    {
     "name": "stderr",
     "output_type": "stream",
     "text": [
      "train: 90.1kB [01:08, 1.31kB/s]                                                                     \n",
      "validate: 10.1kB [00:05, 1.81kB/s]                                                                  \n",
      "train:   0%|                                                            | 0.00/90.0k [00:00<?, ?B/s]"
     ]
    },
    {
     "name": "stdout",
     "output_type": "stream",
     "text": [
      "Epoch: 7\n",
      "Train Loss:  0.0334  |  Top1 Accuracy:  9.1333  |  Top5 Accuracy: 27.2889\n",
      "Validate Loss:  0.0332  |  Top1 Accuracy: 11.4700  |  Top5 Accuracy: 30.1700\n",
      "Validation acc increased (9.310000 --> 11.470000).  Saving model ...\n"
     ]
    },
    {
     "name": "stderr",
     "output_type": "stream",
     "text": [
      "train: 90.1kB [01:08, 1.32kB/s]                                                                     \n",
      "validate: 10.1kB [00:05, 1.81kB/s]                                                                  \n",
      "train:   0%|                                                            | 0.00/90.0k [00:00<?, ?B/s]"
     ]
    },
    {
     "name": "stdout",
     "output_type": "stream",
     "text": [
      "Epoch: 8\n",
      "Train Loss:  0.0327  |  Top1 Accuracy: 10.2967  |  Top5 Accuracy: 29.5589\n",
      "Validate Loss:  0.0320  |  Top1 Accuracy: 12.8900  |  Top5 Accuracy: 33.7700\n",
      "Validation acc increased (11.470000 --> 12.890000).  Saving model ...\n"
     ]
    },
    {
     "name": "stderr",
     "output_type": "stream",
     "text": [
      "train: 90.1kB [01:09, 1.30kB/s]                                                                     \n",
      "validate: 10.1kB [00:08, 1.13kB/s]                                                                  \n",
      "train:   0%|                                                            | 0.00/90.0k [00:00<?, ?B/s]"
     ]
    },
    {
     "name": "stdout",
     "output_type": "stream",
     "text": [
      "Epoch: 9\n",
      "Train Loss:  0.0322  |  Top1 Accuracy: 11.1011  |  Top5 Accuracy: 31.1811\n",
      "Validate Loss:  0.0311  |  Top1 Accuracy: 14.3600  |  Top5 Accuracy: 36.1700\n",
      "Validation acc increased (12.890000 --> 14.360000).  Saving model ...\n"
     ]
    },
    {
     "name": "stderr",
     "output_type": "stream",
     "text": [
      "train: 90.1kB [01:11, 1.26kB/s]                                                                     \n",
      "validate: 10.1kB [00:05, 1.75kB/s]                                                                  \n",
      "train:   0%|                                                            | 0.00/90.0k [00:00<?, ?B/s]"
     ]
    },
    {
     "name": "stdout",
     "output_type": "stream",
     "text": [
      "Epoch: 10\n",
      "Train Loss:  0.0317  |  Top1 Accuracy: 11.9533  |  Top5 Accuracy: 32.8178\n",
      "Validate Loss:  0.0311  |  Top1 Accuracy: 14.3300  |  Top5 Accuracy: 36.4000\n",
      "EarlyStopping counter: 1 out of 10\n"
     ]
    },
    {
     "name": "stderr",
     "output_type": "stream",
     "text": [
      "train: 90.1kB [01:14, 1.21kB/s]                                                                     \n",
      "validate: 10.1kB [00:07, 1.29kB/s]                                                                  \n",
      "train:   0%|                                                            | 0.00/90.0k [00:00<?, ?B/s]"
     ]
    },
    {
     "name": "stdout",
     "output_type": "stream",
     "text": [
      "Epoch: 11\n",
      "Train Loss:  0.0313  |  Top1 Accuracy: 12.8211  |  Top5 Accuracy: 34.0989\n",
      "Validate Loss:  0.0298  |  Top1 Accuracy: 16.9700  |  Top5 Accuracy: 40.4500\n",
      "Validation acc increased (14.360000 --> 16.970000).  Saving model ...\n"
     ]
    },
    {
     "name": "stderr",
     "output_type": "stream",
     "text": [
      "train: 90.1kB [01:40, 894B/s]                                                                       \n",
      "validate: 10.1kB [00:07, 1.41kB/s]                                                                  \n",
      "train:   0%|                                                            | 0.00/90.0k [00:00<?, ?B/s]"
     ]
    },
    {
     "name": "stdout",
     "output_type": "stream",
     "text": [
      "Epoch: 12\n",
      "Train Loss:  0.0309  |  Top1 Accuracy: 13.5733  |  Top5 Accuracy: 35.4044\n",
      "Validate Loss:  0.0335  |  Top1 Accuracy: 13.3100  |  Top5 Accuracy: 33.7600\n",
      "EarlyStopping counter: 1 out of 10\n"
     ]
    },
    {
     "name": "stderr",
     "output_type": "stream",
     "text": [
      "train: 90.1kB [01:10, 1.27kB/s]                                                                     \n",
      "validate: 10.1kB [00:05, 1.78kB/s]                                                                  \n",
      "train:   0%|                                                            | 0.00/90.0k [00:00<?, ?B/s]"
     ]
    },
    {
     "name": "stdout",
     "output_type": "stream",
     "text": [
      "Epoch: 13\n",
      "Train Loss:  0.0306  |  Top1 Accuracy: 13.9689  |  Top5 Accuracy: 36.3356\n",
      "Validate Loss:  0.0290  |  Top1 Accuracy: 17.8800  |  Top5 Accuracy: 42.6700\n",
      "Validation acc increased (16.970000 --> 17.880000).  Saving model ...\n"
     ]
    },
    {
     "name": "stderr",
     "output_type": "stream",
     "text": [
      "train: 90.1kB [01:09, 1.30kB/s]                                                                     \n",
      "validate: 10.1kB [00:05, 1.79kB/s]                                                                  \n",
      "train:   0%|                                                            | 0.00/90.0k [00:00<?, ?B/s]"
     ]
    },
    {
     "name": "stdout",
     "output_type": "stream",
     "text": [
      "Epoch: 14\n",
      "Train Loss:  0.0303  |  Top1 Accuracy: 14.6511  |  Top5 Accuracy: 37.5189\n",
      "Validate Loss:  0.0293  |  Top1 Accuracy: 18.6400  |  Top5 Accuracy: 43.9200\n",
      "Validation acc increased (17.880000 --> 18.640000).  Saving model ...\n"
     ]
    },
    {
     "name": "stderr",
     "output_type": "stream",
     "text": [
      "train: 90.1kB [01:09, 1.30kB/s]                                                                     \n",
      "validate: 10.1kB [00:05, 1.76kB/s]                                                                  \n",
      "train:   0%|                                                            | 0.00/90.0k [00:00<?, ?B/s]"
     ]
    },
    {
     "name": "stdout",
     "output_type": "stream",
     "text": [
      "Epoch: 15\n",
      "Train Loss:  0.0300  |  Top1 Accuracy: 15.0422  |  Top5 Accuracy: 38.3144\n",
      "Validate Loss:  0.0285  |  Top1 Accuracy: 19.7900  |  Top5 Accuracy: 44.9500\n",
      "Validation acc increased (18.640000 --> 19.790000).  Saving model ...\n"
     ]
    },
    {
     "name": "stderr",
     "output_type": "stream",
     "text": [
      "train: 90.1kB [01:19, 1.13kB/s]                                                                     \n",
      "validate: 10.1kB [00:05, 1.82kB/s]                                                                  \n",
      "train:   0%|                                                            | 0.00/90.0k [00:00<?, ?B/s]"
     ]
    },
    {
     "name": "stdout",
     "output_type": "stream",
     "text": [
      "Epoch: 16\n",
      "Train Loss:  0.0297  |  Top1 Accuracy: 15.6289  |  Top5 Accuracy: 39.2067\n",
      "Validate Loss:  0.0277  |  Top1 Accuracy: 21.7400  |  Top5 Accuracy: 46.5000\n",
      "Validation acc increased (19.790000 --> 21.740000).  Saving model ...\n"
     ]
    },
    {
     "name": "stderr",
     "output_type": "stream",
     "text": [
      "train: 90.1kB [01:19, 1.13kB/s]                                                                     \n",
      "validate: 10.1kB [00:05, 1.77kB/s]                                                                  \n",
      "train:   0%|                                                            | 0.00/90.0k [00:00<?, ?B/s]"
     ]
    },
    {
     "name": "stdout",
     "output_type": "stream",
     "text": [
      "Epoch: 17\n",
      "Train Loss:  0.0296  |  Top1 Accuracy: 16.0989  |  Top5 Accuracy: 39.7356\n",
      "Validate Loss:  0.0277  |  Top1 Accuracy: 21.5000  |  Top5 Accuracy: 47.5300\n",
      "EarlyStopping counter: 1 out of 10\n"
     ]
    },
    {
     "name": "stderr",
     "output_type": "stream",
     "text": [
      "train: 90.1kB [01:07, 1.34kB/s]                                                                     \n",
      "validate: 10.1kB [00:05, 1.81kB/s]                                                                  \n",
      "train:   0%|                                                            | 0.00/90.0k [00:00<?, ?B/s]"
     ]
    },
    {
     "name": "stdout",
     "output_type": "stream",
     "text": [
      "Epoch: 18\n",
      "Train Loss:  0.0293  |  Top1 Accuracy: 16.7611  |  Top5 Accuracy: 40.6333\n",
      "Validate Loss:  0.0284  |  Top1 Accuracy: 20.2100  |  Top5 Accuracy: 46.3200\n",
      "EarlyStopping counter: 2 out of 10\n"
     ]
    },
    {
     "name": "stderr",
     "output_type": "stream",
     "text": [
      "train: 90.1kB [01:07, 1.34kB/s]                                                                     \n",
      "validate: 10.1kB [00:05, 1.79kB/s]                                                                  \n",
      "train:   0%|                                                            | 0.00/90.0k [00:00<?, ?B/s]"
     ]
    },
    {
     "name": "stdout",
     "output_type": "stream",
     "text": [
      "Epoch: 19\n",
      "Train Loss:  0.0291  |  Top1 Accuracy: 17.1100  |  Top5 Accuracy: 41.2444\n",
      "Validate Loss:  0.0284  |  Top1 Accuracy: 21.3100  |  Top5 Accuracy: 45.4500\n",
      "Epoch 00019: reducing learning rate of group 0 to 1.5000e-03.\n",
      "EarlyStopping counter: 3 out of 10\n"
     ]
    },
    {
     "name": "stderr",
     "output_type": "stream",
     "text": [
      "train: 90.1kB [01:07, 1.34kB/s]                                                                     \n",
      "validate: 10.1kB [00:05, 1.82kB/s]                                                                  \n",
      "train:   0%|                                                            | 0.00/90.0k [00:00<?, ?B/s]"
     ]
    },
    {
     "name": "stdout",
     "output_type": "stream",
     "text": [
      "Epoch: 20\n",
      "Train Loss:  0.0278  |  Top1 Accuracy: 19.5911  |  Top5 Accuracy: 44.9889\n",
      "Validate Loss:  0.0260  |  Top1 Accuracy: 25.2300  |  Top5 Accuracy: 52.1300\n",
      "Validation acc increased (21.740000 --> 25.230000).  Saving model ...\n"
     ]
    },
    {
     "name": "stderr",
     "output_type": "stream",
     "text": [
      "train: 90.1kB [01:07, 1.33kB/s]                                                                     \n",
      "validate: 10.1kB [00:05, 1.79kB/s]                                                                  \n",
      "train:   0%|                                                            | 0.00/90.0k [00:00<?, ?B/s]"
     ]
    },
    {
     "name": "stdout",
     "output_type": "stream",
     "text": [
      "Epoch: 21\n",
      "Train Loss:  0.0275  |  Top1 Accuracy: 20.4856  |  Top5 Accuracy: 45.8767\n",
      "Validate Loss:  0.0257  |  Top1 Accuracy: 26.4500  |  Top5 Accuracy: 53.3100\n",
      "Validation acc increased (25.230000 --> 26.450000).  Saving model ...\n"
     ]
    },
    {
     "name": "stderr",
     "output_type": "stream",
     "text": [
      "train: 90.1kB [01:07, 1.34kB/s]                                                                     \n",
      "validate: 10.1kB [00:05, 1.79kB/s]                                                                  \n",
      "train:   0%|                                                            | 0.00/90.0k [00:00<?, ?B/s]"
     ]
    },
    {
     "name": "stdout",
     "output_type": "stream",
     "text": [
      "Epoch: 22\n",
      "Train Loss:  0.0273  |  Top1 Accuracy: 20.7289  |  Top5 Accuracy: 46.6678\n",
      "Validate Loss:  0.0256  |  Top1 Accuracy: 26.3200  |  Top5 Accuracy: 53.2300\n",
      "EarlyStopping counter: 1 out of 10\n"
     ]
    },
    {
     "name": "stderr",
     "output_type": "stream",
     "text": [
      "train: 90.1kB [01:11, 1.26kB/s]                                                                     \n",
      "validate: 10.1kB [00:12, 778B/s]                                                                    \n",
      "train:   0%|                                                            | 0.00/90.0k [00:00<?, ?B/s]"
     ]
    },
    {
     "name": "stdout",
     "output_type": "stream",
     "text": [
      "Epoch: 23\n",
      "Train Loss:  0.0272  |  Top1 Accuracy: 21.1078  |  Top5 Accuracy: 46.8689\n",
      "Validate Loss:  0.0259  |  Top1 Accuracy: 25.7300  |  Top5 Accuracy: 53.3500\n",
      "EarlyStopping counter: 2 out of 10\n"
     ]
    },
    {
     "name": "stderr",
     "output_type": "stream",
     "text": [
      "train: 90.1kB [01:07, 1.34kB/s]                                                                     \n",
      "validate: 10.1kB [00:05, 1.82kB/s]                                                                  \n",
      "train:   0%|                                                            | 0.00/90.0k [00:00<?, ?B/s]"
     ]
    },
    {
     "name": "stdout",
     "output_type": "stream",
     "text": [
      "Epoch: 24\n",
      "Train Loss:  0.0270  |  Top1 Accuracy: 21.2200  |  Top5 Accuracy: 47.3200\n",
      "Validate Loss:  0.0264  |  Top1 Accuracy: 25.6800  |  Top5 Accuracy: 52.3800\n",
      "Epoch 00024: reducing learning rate of group 0 to 1.5000e-04.\n",
      "EarlyStopping counter: 3 out of 10\n"
     ]
    },
    {
     "name": "stderr",
     "output_type": "stream",
     "text": [
      "train: 90.1kB [01:08, 1.32kB/s]                                                                     \n",
      "validate: 10.1kB [00:05, 1.74kB/s]                                                                  \n",
      "train:   0%|                                                            | 0.00/90.0k [00:00<?, ?B/s]"
     ]
    },
    {
     "name": "stdout",
     "output_type": "stream",
     "text": [
      "Epoch: 25\n",
      "Train Loss:  0.0270  |  Top1 Accuracy: 21.6611  |  Top5 Accuracy: 47.6467\n",
      "Validate Loss:  0.0255  |  Top1 Accuracy: 26.3800  |  Top5 Accuracy: 53.9300\n",
      "EarlyStopping counter: 4 out of 10\n"
     ]
    },
    {
     "name": "stderr",
     "output_type": "stream",
     "text": [
      "train: 90.1kB [01:08, 1.31kB/s]                                                                     \n",
      "validate: 10.1kB [00:05, 1.81kB/s]                                                                  \n",
      "train:   0%|                                                            | 0.00/90.0k [00:00<?, ?B/s]"
     ]
    },
    {
     "name": "stdout",
     "output_type": "stream",
     "text": [
      "Epoch: 26\n",
      "Train Loss:  0.0269  |  Top1 Accuracy: 21.7511  |  Top5 Accuracy: 47.9678\n",
      "Validate Loss:  0.0255  |  Top1 Accuracy: 26.8500  |  Top5 Accuracy: 54.1200\n",
      "Validation acc increased (26.450000 --> 26.850000).  Saving model ...\n"
     ]
    },
    {
     "name": "stderr",
     "output_type": "stream",
     "text": [
      "train: 90.1kB [01:07, 1.34kB/s]                                                                     \n",
      "validate: 10.1kB [00:05, 1.79kB/s]                                                                  \n",
      "train:   0%|                                                            | 0.00/90.0k [00:00<?, ?B/s]"
     ]
    },
    {
     "name": "stdout",
     "output_type": "stream",
     "text": [
      "Epoch: 27\n",
      "Train Loss:  0.0268  |  Top1 Accuracy: 21.8867  |  Top5 Accuracy: 48.0000\n",
      "Validate Loss:  0.0257  |  Top1 Accuracy: 26.6900  |  Top5 Accuracy: 53.9200\n",
      "EarlyStopping counter: 1 out of 10\n"
     ]
    },
    {
     "name": "stderr",
     "output_type": "stream",
     "text": [
      "train: 90.1kB [01:06, 1.34kB/s]                                                                     \n",
      "validate: 10.1kB [00:05, 1.80kB/s]                                                                  \n",
      "train:   0%|                                                            | 0.00/90.0k [00:00<?, ?B/s]"
     ]
    },
    {
     "name": "stdout",
     "output_type": "stream",
     "text": [
      "Epoch: 28\n",
      "Train Loss:  0.0268  |  Top1 Accuracy: 21.7478  |  Top5 Accuracy: 47.9978\n",
      "Validate Loss:  0.0256  |  Top1 Accuracy: 26.7100  |  Top5 Accuracy: 54.2200\n",
      "EarlyStopping counter: 2 out of 10\n"
     ]
    },
    {
     "name": "stderr",
     "output_type": "stream",
     "text": [
      "train: 90.1kB [01:09, 1.31kB/s]                                                                     \n",
      "validate: 10.1kB [00:05, 1.81kB/s]                                                                  \n",
      "train:   0%|                                                            | 0.00/90.0k [00:00<?, ?B/s]"
     ]
    },
    {
     "name": "stdout",
     "output_type": "stream",
     "text": [
      "Epoch: 29\n",
      "Train Loss:  0.0268  |  Top1 Accuracy: 21.7856  |  Top5 Accuracy: 47.7956\n",
      "Validate Loss:  0.0258  |  Top1 Accuracy: 26.5200  |  Top5 Accuracy: 53.9100\n",
      "Epoch 00029: reducing learning rate of group 0 to 1.5000e-05.\n",
      "EarlyStopping counter: 3 out of 10\n"
     ]
    },
    {
     "name": "stderr",
     "output_type": "stream",
     "text": [
      "train: 90.1kB [01:06, 1.35kB/s]                                                                     \n",
      "validate: 10.1kB [00:05, 1.72kB/s]                                                                  \n",
      "train:   0%|                                                            | 0.00/90.0k [00:00<?, ?B/s]"
     ]
    },
    {
     "name": "stdout",
     "output_type": "stream",
     "text": [
      "Epoch: 30\n",
      "Train Loss:  0.0268  |  Top1 Accuracy: 21.6811  |  Top5 Accuracy: 48.0389\n",
      "Validate Loss:  0.0256  |  Top1 Accuracy: 26.8800  |  Top5 Accuracy: 53.9200\n",
      "Validation acc increased (26.850000 --> 26.880000).  Saving model ...\n"
     ]
    },
    {
     "name": "stderr",
     "output_type": "stream",
     "text": [
      "train: 90.1kB [01:06, 1.35kB/s]                                                                     \n",
      "validate: 10.1kB [00:05, 1.82kB/s]                                                                  \n",
      "train:   0%|                                                            | 0.00/90.0k [00:00<?, ?B/s]"
     ]
    },
    {
     "name": "stdout",
     "output_type": "stream",
     "text": [
      "Epoch: 31\n",
      "Train Loss:  0.0268  |  Top1 Accuracy: 21.9756  |  Top5 Accuracy: 48.0067\n",
      "Validate Loss:  0.0256  |  Top1 Accuracy: 26.9000  |  Top5 Accuracy: 54.2900\n",
      "Validation acc increased (26.880000 --> 26.900000).  Saving model ...\n"
     ]
    },
    {
     "name": "stderr",
     "output_type": "stream",
     "text": [
      "train: 90.1kB [01:06, 1.35kB/s]                                                                     \n",
      "validate: 10.1kB [00:05, 1.83kB/s]                                                                  \n",
      "train:   0%|                                                            | 0.00/90.0k [00:00<?, ?B/s]"
     ]
    },
    {
     "name": "stdout",
     "output_type": "stream",
     "text": [
      "Epoch: 32\n",
      "Train Loss:  0.0268  |  Top1 Accuracy: 21.8822  |  Top5 Accuracy: 48.0822\n",
      "Validate Loss:  0.0254  |  Top1 Accuracy: 26.3100  |  Top5 Accuracy: 54.4700\n",
      "EarlyStopping counter: 1 out of 10\n"
     ]
    },
    {
     "name": "stderr",
     "output_type": "stream",
     "text": [
      "train: 90.1kB [01:06, 1.35kB/s]                                                                     \n",
      "validate: 10.1kB [00:05, 1.82kB/s]                                                                  \n",
      "train:   0%|                                                            | 0.00/90.0k [00:00<?, ?B/s]"
     ]
    },
    {
     "name": "stdout",
     "output_type": "stream",
     "text": [
      "Epoch: 33\n",
      "Train Loss:  0.0268  |  Top1 Accuracy: 21.8989  |  Top5 Accuracy: 47.9611\n",
      "Validate Loss:  0.0256  |  Top1 Accuracy: 26.9200  |  Top5 Accuracy: 53.9200\n",
      "Validation acc increased (26.900000 --> 26.920000).  Saving model ...\n"
     ]
    },
    {
     "name": "stderr",
     "output_type": "stream",
     "text": [
      "train: 90.1kB [01:06, 1.35kB/s]                                                                     \n",
      "validate: 10.1kB [00:05, 1.83kB/s]                                                                  \n",
      "train:   0%|                                                            | 0.00/90.0k [00:00<?, ?B/s]"
     ]
    },
    {
     "name": "stdout",
     "output_type": "stream",
     "text": [
      "Epoch: 34\n",
      "Train Loss:  0.0268  |  Top1 Accuracy: 22.0000  |  Top5 Accuracy: 48.0678\n",
      "Validate Loss:  0.0256  |  Top1 Accuracy: 26.9200  |  Top5 Accuracy: 54.0800\n",
      "Validation acc increased (26.920000 --> 26.920000).  Saving model ...\n"
     ]
    },
    {
     "name": "stderr",
     "output_type": "stream",
     "text": [
      "train: 90.1kB [01:07, 1.34kB/s]                                                                     \n",
      "validate: 10.1kB [00:05, 1.84kB/s]                                                                  \n",
      "train:   0%|                                                            | 0.00/90.0k [00:00<?, ?B/s]"
     ]
    },
    {
     "name": "stdout",
     "output_type": "stream",
     "text": [
      "Epoch: 35\n",
      "Train Loss:  0.0268  |  Top1 Accuracy: 21.9467  |  Top5 Accuracy: 48.0900\n",
      "Validate Loss:  0.0256  |  Top1 Accuracy: 26.9600  |  Top5 Accuracy: 54.0700\n",
      "Validation acc increased (26.920000 --> 26.960000).  Saving model ...\n"
     ]
    },
    {
     "name": "stderr",
     "output_type": "stream",
     "text": [
      "train: 90.1kB [01:06, 1.35kB/s]                                                                     \n",
      "validate: 10.1kB [00:05, 1.81kB/s]                                                                  \n",
      "train:   0%|                                                            | 0.00/90.0k [00:00<?, ?B/s]"
     ]
    },
    {
     "name": "stdout",
     "output_type": "stream",
     "text": [
      "Epoch: 36\n",
      "Train Loss:  0.0268  |  Top1 Accuracy: 21.9467  |  Top5 Accuracy: 48.0878\n",
      "Validate Loss:  0.0255  |  Top1 Accuracy: 26.7400  |  Top5 Accuracy: 54.1100\n",
      "EarlyStopping counter: 1 out of 10\n"
     ]
    },
    {
     "name": "stderr",
     "output_type": "stream",
     "text": [
      "train: 90.1kB [01:06, 1.35kB/s]                                                                     \n",
      "validate: 10.1kB [00:05, 1.82kB/s]                                                                  \n",
      "train:   0%|                                                            | 0.00/90.0k [00:00<?, ?B/s]"
     ]
    },
    {
     "name": "stdout",
     "output_type": "stream",
     "text": [
      "Epoch: 37\n",
      "Train Loss:  0.0268  |  Top1 Accuracy: 21.7656  |  Top5 Accuracy: 47.7967\n",
      "Validate Loss:  0.0257  |  Top1 Accuracy: 26.9900  |  Top5 Accuracy: 53.9800\n",
      "Validation acc increased (26.960000 --> 26.990000).  Saving model ...\n"
     ]
    },
    {
     "name": "stderr",
     "output_type": "stream",
     "text": [
      "train: 90.1kB [01:07, 1.33kB/s]                                                                     \n",
      "validate: 10.1kB [00:05, 1.78kB/s]                                                                  \n",
      "train:   0%|                                                            | 0.00/90.0k [00:00<?, ?B/s]"
     ]
    },
    {
     "name": "stdout",
     "output_type": "stream",
     "text": [
      "Epoch: 38\n",
      "Train Loss:  0.0268  |  Top1 Accuracy: 21.7567  |  Top5 Accuracy: 47.7078\n",
      "Validate Loss:  0.0255  |  Top1 Accuracy: 26.7600  |  Top5 Accuracy: 54.4300\n",
      "EarlyStopping counter: 1 out of 10\n"
     ]
    },
    {
     "name": "stderr",
     "output_type": "stream",
     "text": [
      "train: 90.1kB [01:07, 1.33kB/s]                                                                     \n",
      "validate: 10.1kB [00:05, 1.81kB/s]                                                                  \n",
      "train:   0%|                                                            | 0.00/90.0k [00:00<?, ?B/s]"
     ]
    },
    {
     "name": "stdout",
     "output_type": "stream",
     "text": [
      "Epoch: 39\n",
      "Train Loss:  0.0268  |  Top1 Accuracy: 21.8756  |  Top5 Accuracy: 47.9389\n",
      "Validate Loss:  0.0256  |  Top1 Accuracy: 26.8600  |  Top5 Accuracy: 54.3200\n",
      "EarlyStopping counter: 2 out of 10\n"
     ]
    },
    {
     "name": "stderr",
     "output_type": "stream",
     "text": [
      "train: 90.1kB [01:08, 1.31kB/s]                                                                     \n",
      "validate: 10.1kB [00:05, 1.80kB/s]                                                                  \n",
      "train:   0%|                                                            | 0.00/90.0k [00:00<?, ?B/s]"
     ]
    },
    {
     "name": "stdout",
     "output_type": "stream",
     "text": [
      "Epoch: 40\n",
      "Train Loss:  0.0268  |  Top1 Accuracy: 21.9711  |  Top5 Accuracy: 48.1844\n",
      "Validate Loss:  0.0255  |  Top1 Accuracy: 27.0800  |  Top5 Accuracy: 54.7100\n",
      "Validation acc increased (26.990000 --> 27.080000).  Saving model ...\n"
     ]
    },
    {
     "name": "stderr",
     "output_type": "stream",
     "text": [
      "train: 90.1kB [01:07, 1.34kB/s]                                                                     \n",
      "validate: 10.1kB [00:05, 1.79kB/s]                                                                  \n",
      "train:   0%|                                                            | 0.00/90.0k [00:00<?, ?B/s]"
     ]
    },
    {
     "name": "stdout",
     "output_type": "stream",
     "text": [
      "Epoch: 41\n",
      "Train Loss:  0.0268  |  Top1 Accuracy: 21.8844  |  Top5 Accuracy: 48.2911\n",
      "Validate Loss:  0.0256  |  Top1 Accuracy: 26.8900  |  Top5 Accuracy: 54.2500\n",
      "EarlyStopping counter: 1 out of 10\n"
     ]
    },
    {
     "name": "stderr",
     "output_type": "stream",
     "text": [
      "train: 90.1kB [01:07, 1.34kB/s]                                                                     \n",
      "validate: 10.1kB [00:05, 1.81kB/s]                                                                  \n",
      "train:   0%|                                                            | 0.00/90.0k [00:00<?, ?B/s]"
     ]
    },
    {
     "name": "stdout",
     "output_type": "stream",
     "text": [
      "Epoch: 42\n",
      "Train Loss:  0.0267  |  Top1 Accuracy: 22.0456  |  Top5 Accuracy: 48.1078\n",
      "Validate Loss:  0.0256  |  Top1 Accuracy: 26.9300  |  Top5 Accuracy: 54.2400\n",
      "EarlyStopping counter: 2 out of 10\n"
     ]
    },
    {
     "name": "stderr",
     "output_type": "stream",
     "text": [
      "train: 90.1kB [01:07, 1.34kB/s]                                                                     \n",
      "validate: 10.1kB [00:05, 1.84kB/s]                                                                  \n",
      "train:   0%|                                                            | 0.00/90.0k [00:00<?, ?B/s]"
     ]
    },
    {
     "name": "stdout",
     "output_type": "stream",
     "text": [
      "Epoch: 43\n",
      "Train Loss:  0.0268  |  Top1 Accuracy: 22.0878  |  Top5 Accuracy: 48.0822\n",
      "Validate Loss:  0.0256  |  Top1 Accuracy: 26.8900  |  Top5 Accuracy: 54.0500\n",
      "Epoch 00043: reducing learning rate of group 0 to 1.5000e-06.\n",
      "EarlyStopping counter: 3 out of 10\n"
     ]
    },
    {
     "name": "stderr",
     "output_type": "stream",
     "text": [
      "train: 90.1kB [01:07, 1.34kB/s]                                                                     \n",
      "validate: 10.1kB [00:05, 1.83kB/s]                                                                  \n",
      "train:   0%|                                                            | 0.00/90.0k [00:00<?, ?B/s]"
     ]
    },
    {
     "name": "stdout",
     "output_type": "stream",
     "text": [
      "Epoch: 44\n",
      "Train Loss:  0.0268  |  Top1 Accuracy: 21.9922  |  Top5 Accuracy: 48.1044\n",
      "Validate Loss:  0.0256  |  Top1 Accuracy: 26.5300  |  Top5 Accuracy: 54.0500\n",
      "EarlyStopping counter: 4 out of 10\n"
     ]
    },
    {
     "name": "stderr",
     "output_type": "stream",
     "text": [
      "train: 90.1kB [01:07, 1.34kB/s]                                                                     \n",
      "validate: 10.1kB [00:05, 1.81kB/s]                                                                  \n",
      "train:   0%|                                                            | 0.00/90.0k [00:00<?, ?B/s]"
     ]
    },
    {
     "name": "stdout",
     "output_type": "stream",
     "text": [
      "Epoch: 45\n",
      "Train Loss:  0.0268  |  Top1 Accuracy: 21.9011  |  Top5 Accuracy: 47.9078\n",
      "Validate Loss:  0.0257  |  Top1 Accuracy: 26.9300  |  Top5 Accuracy: 53.7200\n",
      "EarlyStopping counter: 5 out of 10\n"
     ]
    },
    {
     "name": "stderr",
     "output_type": "stream",
     "text": [
      "train: 90.1kB [01:08, 1.32kB/s]                                                                     \n",
      "validate: 10.1kB [00:05, 1.79kB/s]                                                                  \n",
      "train:   0%|                                                            | 0.00/90.0k [00:00<?, ?B/s]"
     ]
    },
    {
     "name": "stdout",
     "output_type": "stream",
     "text": [
      "Epoch: 46\n",
      "Train Loss:  0.0268  |  Top1 Accuracy: 21.9489  |  Top5 Accuracy: 48.2100\n",
      "Validate Loss:  0.0257  |  Top1 Accuracy: 26.9600  |  Top5 Accuracy: 53.9200\n",
      "Epoch 00046: reducing learning rate of group 0 to 1.5000e-07.\n",
      "EarlyStopping counter: 6 out of 10\n"
     ]
    },
    {
     "name": "stderr",
     "output_type": "stream",
     "text": [
      "train: 90.1kB [01:08, 1.32kB/s]                                                                     \n",
      "validate: 10.1kB [00:05, 1.84kB/s]                                                                  \n",
      "train:   0%|                                                            | 0.00/90.0k [00:00<?, ?B/s]"
     ]
    },
    {
     "name": "stdout",
     "output_type": "stream",
     "text": [
      "Epoch: 47\n",
      "Train Loss:  0.0268  |  Top1 Accuracy: 21.9989  |  Top5 Accuracy: 47.9756\n",
      "Validate Loss:  0.0254  |  Top1 Accuracy: 26.9700  |  Top5 Accuracy: 54.4700\n",
      "EarlyStopping counter: 7 out of 10\n"
     ]
    },
    {
     "name": "stderr",
     "output_type": "stream",
     "text": [
      "train: 90.1kB [01:09, 1.30kB/s]                                                                     \n",
      "validate: 10.1kB [00:07, 1.38kB/s]                                                                  \n",
      "train:   0%|                                                            | 0.00/90.0k [00:00<?, ?B/s]"
     ]
    },
    {
     "name": "stdout",
     "output_type": "stream",
     "text": [
      "Epoch: 48\n",
      "Train Loss:  0.0267  |  Top1 Accuracy: 21.9633  |  Top5 Accuracy: 48.1122\n",
      "Validate Loss:  0.0256  |  Top1 Accuracy: 27.0400  |  Top5 Accuracy: 54.2800\n",
      "EarlyStopping counter: 8 out of 10\n"
     ]
    },
    {
     "name": "stderr",
     "output_type": "stream",
     "text": [
      "train: 90.1kB [01:09, 1.30kB/s]                                                                     \n",
      "validate: 10.1kB [00:06, 1.46kB/s]                                                                  \n",
      "train:   0%|                                                            | 0.00/90.0k [00:00<?, ?B/s]"
     ]
    },
    {
     "name": "stdout",
     "output_type": "stream",
     "text": [
      "Epoch: 49\n",
      "Train Loss:  0.0268  |  Top1 Accuracy: 21.8278  |  Top5 Accuracy: 47.8256\n",
      "Validate Loss:  0.0257  |  Top1 Accuracy: 26.5400  |  Top5 Accuracy: 53.8700\n",
      "Epoch 00049: reducing learning rate of group 0 to 1.5000e-08.\n",
      "EarlyStopping counter: 9 out of 10\n"
     ]
    },
    {
     "name": "stderr",
     "output_type": "stream",
     "text": [
      "train: 90.1kB [01:17, 1.16kB/s]                                                                     \n",
      "validate: 10.1kB [00:08, 1.26kB/s]                                                                  \n",
      "train:   0%|                                                            | 0.00/90.0k [00:00<?, ?B/s]"
     ]
    },
    {
     "name": "stdout",
     "output_type": "stream",
     "text": [
      "Epoch: 50\n",
      "Train Loss:  0.0268  |  Top1 Accuracy: 21.9000  |  Top5 Accuracy: 47.9978\n",
      "Validate Loss:  0.0255  |  Top1 Accuracy: 27.0800  |  Top5 Accuracy: 54.9200\n",
      "Validation acc increased (27.080000 --> 27.080000).  Saving model ...\n"
     ]
    },
    {
     "name": "stderr",
     "output_type": "stream",
     "text": [
      "train:  79%|█████████████████████████████████████████▊           | 71.0k/90.0k [01:21<00:21, 870B/s]\n"
     ]
    },
    {
     "ename": "KeyboardInterrupt",
     "evalue": "",
     "output_type": "error",
     "traceback": [
      "\u001b[1;31m---------------------------------------------------------------------------\u001b[0m",
      "\u001b[1;31mKeyboardInterrupt\u001b[0m                         Traceback (most recent call last)",
      "\u001b[1;32m<ipython-input-12-9f413e76e0a8>\u001b[0m in \u001b[0;36m<module>\u001b[1;34m\u001b[0m\n\u001b[1;32m----> 1\u001b[1;33m loss_tr_hist, loss_val_hist, accuracy_tr_hist, accuracy_val_hist, top5_accuracy_tr_hist, top5_accuracy_val_hist, model = fit(\n\u001b[0m\u001b[0;32m      2\u001b[0m             \u001b[1;31m######################## task 3.6 ##########################\u001b[0m\u001b[1;33m\u001b[0m\u001b[1;33m\u001b[0m\u001b[1;33m\u001b[0m\u001b[0m\n\u001b[0;32m      3\u001b[0m     \u001b[0mdataloader_tr\u001b[0m\u001b[1;33m,\u001b[0m \u001b[0mdataloader_val\u001b[0m\u001b[1;33m,\u001b[0m \u001b[0mmodel\u001b[0m\u001b[1;33m,\u001b[0m \u001b[0mcriterion\u001b[0m\u001b[1;33m,\u001b[0m \u001b[0moptimizer\u001b[0m\u001b[1;33m,\u001b[0m \u001b[0mmax_epoch\u001b[0m \u001b[1;33m=\u001b[0m \u001b[1;36m100\u001b[0m\u001b[1;33m,\u001b[0m\u001b[0;31m \u001b[0m\u001b[0;31m\\\u001b[0m\u001b[1;33m\u001b[0m\u001b[1;33m\u001b[0m\u001b[0m\n\u001b[0;32m      4\u001b[0m     \u001b[0mscheduler\u001b[0m \u001b[1;33m=\u001b[0m \u001b[0mscheduler\u001b[0m\u001b[1;33m,\u001b[0m \u001b[0mfilename\u001b[0m \u001b[1;33m=\u001b[0m \u001b[1;32mNone\u001b[0m\u001b[1;33m,\u001b[0m \u001b[0mearly_stop\u001b[0m \u001b[1;33m=\u001b[0m \u001b[1;32mTrue\u001b[0m\u001b[1;33m,\u001b[0m \u001b[0mpatience\u001b[0m \u001b[1;33m=\u001b[0m \u001b[1;36m10\u001b[0m\u001b[1;33m,\u001b[0m \u001b[0mresume\u001b[0m \u001b[1;33m=\u001b[0m \u001b[1;32mFalse\u001b[0m\u001b[1;33m\u001b[0m\u001b[1;33m\u001b[0m\u001b[0m\n\u001b[0;32m      5\u001b[0m             \u001b[1;31m########################    END   ##########################\u001b[0m\u001b[1;33m\u001b[0m\u001b[1;33m\u001b[0m\u001b[1;33m\u001b[0m\u001b[0m\n",
      "\u001b[1;32m<ipython-input-11-00919f671b54>\u001b[0m in \u001b[0;36mfit\u001b[1;34m(dataloader_tr, dataloader_val, model, criterion, optimizer, max_epoch, scheduler, filename, early_stop, patience, resume)\u001b[0m\n\u001b[0;32m     22\u001b[0m         \u001b[0mt0\u001b[0m \u001b[1;33m=\u001b[0m \u001b[0mtime\u001b[0m\u001b[1;33m.\u001b[0m\u001b[0mtime\u001b[0m\u001b[1;33m(\u001b[0m\u001b[1;33m)\u001b[0m\u001b[1;33m\u001b[0m\u001b[1;33m\u001b[0m\u001b[0m\n\u001b[0;32m     23\u001b[0m \u001b[1;33m\u001b[0m\u001b[0m\n\u001b[1;32m---> 24\u001b[1;33m         \u001b[0mloss_tr\u001b[0m\u001b[1;33m,\u001b[0m \u001b[0maccuracy_tr\u001b[0m\u001b[1;33m,\u001b[0m \u001b[0mtop5_acc_tr\u001b[0m \u001b[1;33m=\u001b[0m \u001b[0mtrain\u001b[0m\u001b[1;33m(\u001b[0m\u001b[0mdataloader_tr\u001b[0m\u001b[1;33m,\u001b[0m \u001b[0mmodel\u001b[0m\u001b[1;33m,\u001b[0m \u001b[0moptimizer\u001b[0m\u001b[1;33m,\u001b[0m \u001b[0mcriterion\u001b[0m\u001b[1;33m)\u001b[0m\u001b[1;33m\u001b[0m\u001b[1;33m\u001b[0m\u001b[0m\n\u001b[0m\u001b[0;32m     25\u001b[0m         \u001b[0mloss_tr_hist\u001b[0m\u001b[1;33m.\u001b[0m\u001b[0mappend\u001b[0m\u001b[1;33m(\u001b[0m\u001b[0mloss_tr\u001b[0m\u001b[1;33m)\u001b[0m\u001b[1;33m\u001b[0m\u001b[1;33m\u001b[0m\u001b[0m\n\u001b[0;32m     26\u001b[0m         \u001b[0maccuracy_tr_hist\u001b[0m\u001b[1;33m.\u001b[0m\u001b[0mappend\u001b[0m\u001b[1;33m(\u001b[0m\u001b[0maccuracy_tr\u001b[0m\u001b[1;33m)\u001b[0m\u001b[1;33m\u001b[0m\u001b[1;33m\u001b[0m\u001b[0m\n",
      "\u001b[1;32m<ipython-input-8-97f664ef1bef>\u001b[0m in \u001b[0;36mtrain\u001b[1;34m(dataloader, model, optimizer, criterion)\u001b[0m\n\u001b[0;32m     17\u001b[0m             \u001b[0mcur_loss\u001b[0m\u001b[1;33m.\u001b[0m\u001b[0mbackward\u001b[0m\u001b[1;33m(\u001b[0m\u001b[1;33m)\u001b[0m\u001b[1;33m\u001b[0m\u001b[1;33m\u001b[0m\u001b[0m\n\u001b[0;32m     18\u001b[0m             \u001b[0moptimizer\u001b[0m\u001b[1;33m.\u001b[0m\u001b[0mstep\u001b[0m\u001b[1;33m(\u001b[0m\u001b[1;33m)\u001b[0m\u001b[1;33m\u001b[0m\u001b[1;33m\u001b[0m\u001b[0m\n\u001b[1;32m---> 19\u001b[1;33m             \u001b[0mloss\u001b[0m \u001b[1;33m+=\u001b[0m \u001b[0mcur_loss\u001b[0m\u001b[1;33m.\u001b[0m\u001b[0mitem\u001b[0m\u001b[1;33m(\u001b[0m\u001b[1;33m)\u001b[0m\u001b[1;33m\u001b[0m\u001b[1;33m\u001b[0m\u001b[0m\n\u001b[0m\u001b[0;32m     20\u001b[0m             \u001b[0mpred\u001b[0m \u001b[1;33m=\u001b[0m \u001b[0mlogits\u001b[0m\u001b[1;33m.\u001b[0m\u001b[0margmax\u001b[0m\u001b[1;33m(\u001b[0m\u001b[0mdim\u001b[0m \u001b[1;33m=\u001b[0m \u001b[1;36m1\u001b[0m\u001b[1;33m)\u001b[0m\u001b[1;33m\u001b[0m\u001b[1;33m\u001b[0m\u001b[0m\n\u001b[0;32m     21\u001b[0m             \u001b[0mcorrect\u001b[0m \u001b[1;33m+=\u001b[0m \u001b[0mpred\u001b[0m\u001b[1;33m.\u001b[0m\u001b[0meq\u001b[0m\u001b[1;33m(\u001b[0m\u001b[0mY\u001b[0m\u001b[1;33m)\u001b[0m\u001b[1;33m.\u001b[0m\u001b[0msum\u001b[0m\u001b[1;33m(\u001b[0m\u001b[1;33m)\u001b[0m\u001b[1;33m\u001b[0m\u001b[1;33m\u001b[0m\u001b[0m\n",
      "\u001b[1;31mKeyboardInterrupt\u001b[0m: "
     ]
    }
   ],
   "source": [
    "loss_tr_hist, loss_val_hist, accuracy_tr_hist, accuracy_val_hist, top5_accuracy_tr_hist, top5_accuracy_val_hist, model = fit(\n",
    "    dataloader_tr, dataloader_val, model, criterion, optimizer, max_epoch = 100, \\\n",
    "    scheduler = scheduler, filename = None, early_stop = True, patience = 10, resume = False\n",
    "            )"
   ]
  },
  {
   "cell_type": "code",
   "execution_count": 13,
   "metadata": {},
   "outputs": [
    {
     "name": "stderr",
     "output_type": "stream",
     "text": [
      "test: 10.1kB [00:08, 1.19kB/s]                                                                      \n"
     ]
    },
    {
     "name": "stdout",
     "output_type": "stream",
     "text": [
      "Test Loss:  0.0200  |  Test Accuracy: 44.6900  |  Test Top5Accuracy: 70.7500\n"
     ]
    }
   ],
   "source": [
    "# model = CNN()\n",
    "# model = load_model('checkpoint.pt', model, mode = 'test')\n",
    "if gpu:\n",
    "    model.cuda()\n",
    "pred, loss_test, accuracy_test, top5acc = test(model, dataloader_test)\n",
    "print('Test Loss: {0:7.4f}  |  Test Accuracy: {1:7.4f}  |  Test Top5Accuracy: {2:7.4f}'.format(loss_test, accuracy_test, top5acc))"
   ]
  },
  {
   "cell_type": "code",
   "execution_count": null,
   "metadata": {
    "scrolled": false
   },
   "outputs": [],
   "source": [
    "plot(loss_tr_hist, loss_val_hist, accuracy_tr_hist, accuracy_val_hist, top5_accuracy_tr_hist, top5_accuracy_val_hist)"
   ]
  }
 ],
 "metadata": {
  "interpreter": {
   "hash": "553c9fd0f2e8de60f7c1e43887c8b5eb4e01ed43100aba3f2fe0931f36bb9abc"
  },
  "kernelspec": {
   "display_name": "Python 3",
   "language": "python",
   "name": "python3"
  },
  "language_info": {
   "codemirror_mode": {
    "name": "ipython",
    "version": 3
   },
   "file_extension": ".py",
   "mimetype": "text/x-python",
   "name": "python",
   "nbconvert_exporter": "python",
   "pygments_lexer": "ipython3",
   "version": "3.8.10"
  }
 },
 "nbformat": 4,
 "nbformat_minor": 2
}
